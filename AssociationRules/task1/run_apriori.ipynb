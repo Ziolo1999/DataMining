{
 "cells": [
  {
   "cell_type": "code",
   "execution_count": 1,
   "metadata": {},
   "outputs": [],
   "source": [
    "from functions_GPT import apriori, association_rules, recommend_items, evaluate_recommendations\n",
    "from apriori_upgraded import apriori_upgraded\n",
    "from mlxtend.frequent_patterns import apriori as apriori_mlxtend\n",
    "import datetime\n",
    "import numpy as np\n",
    "from sklearn.preprocessing import MultiLabelBinarizer\n",
    "import pandas as pd\n",
    "from time import time"
   ]
  },
  {
   "attachments": {},
   "cell_type": "markdown",
   "metadata": {},
   "source": [
    "# Create Dataset"
   ]
  },
  {
   "cell_type": "code",
   "execution_count": 2,
   "metadata": {},
   "outputs": [],
   "source": [
    "mlb = MultiLabelBinarizer()\n",
    "\n",
    "transactions = [\n",
    "    {'apple', 'banana', 'bread'},\n",
    "    {'banana', 'milk'},\n",
    "    {'apple', 'bread', 'eggs'},\n",
    "    {'orange'},\n",
    "    {'banana', 'bread', 'milk'},\n",
    "    {'apple', 'milk', 'eggs'},\n",
    "    {'banana', 'eggs'},\n",
    "    {'apple', 'bread', 'milk', 'eggs'},\n",
    "    {'apple', 'banana', 'bread', 'milk'},\n",
    "    {'bread', 'eggs'}\n",
    "]\n",
    "transactions_df = mlb.fit_transform(transactions)\n",
    "transactions_df = pd.DataFrame(transactions_df.astype(bool))\n",
    "\n",
    "transactions2 = [\n",
    "    {'apple', 'banana', 'cherry', 'date'},\n",
    "    {'banana', 'cherry', 'date', 'elderberry'},\n",
    "    {'apple', 'banana', 'cherry', 'elderberry', 'fig', 'grape'},\n",
    "    {'apple', 'banana', 'elderberry', 'grape', 'honeydew'},\n",
    "    {'banana', 'cherry', 'elderberry', 'fig', 'honeydew', 'jackfruit'},\n",
    "    {'apple', 'banana', 'elderberry', 'grape', 'honeydew', 'jackfruit'},\n",
    "    {'cherry', 'date', 'elderberry', 'fig', 'honeydew', 'jackfruit', 'kiwi'},\n",
    "    {'apple', 'cherry', 'elderberry', 'fig', 'honeydew', 'kiwi', 'lemon'},\n",
    "    {'banana', 'cherry', 'date', 'elderberry', 'fig', 'grape', 'lemon'},\n",
    "    {'apple', 'banana', 'cherry', 'elderberry', 'grape', 'lemon', 'mango'},\n",
    "    {'cherry', 'date', 'elderberry', 'fig', 'honeydew', 'jackfruit', 'mango', 'kiwi'},\n",
    "    {'apple', 'banana', 'cherry', 'elderberry', 'grape', 'lemon', 'mango', 'kiwi', 'nectarine'},\n",
    "    {'banana', 'elderberry', 'fig', 'honeydew', 'jackfruit', 'kiwi', 'lemon', 'mango', 'nectarine', 'orange'},\n",
    "    {'cherry', 'date', 'elderberry', 'fig', 'honeydew', 'jackfruit', 'kiwi', 'lemon', 'mango', 'nectarine', 'orange'},\n",
    "    {'apple', 'banana', 'cherry', 'elderberry', 'grape', 'lemon', 'mango', 'nectarine', 'orange', 'papaya'}\n",
    "]\n",
    "transactions2_df = mlb.fit_transform(transactions2)\n",
    "transactions2_df = pd.DataFrame(transactions2_df.astype(bool))\n",
    "\n",
    "transactions3 = [set(i.strip().split()) for i in open(\"retail.dat\").readlines()]\n",
    "transactions3_df = mlb.fit_transform(transactions3)\n",
    "transactions3_df = pd.DataFrame(transactions3_df.astype(bool))"
   ]
  },
  {
   "attachments": {},
   "cell_type": "markdown",
   "metadata": {},
   "source": [
    "# Run algorithms for the first transaction set"
   ]
  },
  {
   "cell_type": "code",
   "execution_count": 17,
   "metadata": {},
   "outputs": [
    {
     "name": "stdout",
     "output_type": "stream",
     "text": [
      "[ 543.11752319   82.01599121 2028.94210815]\n"
     ]
    }
   ],
   "source": [
    "algorithms = [apriori, apriori_upgraded, apriori_mlxtend]\n",
    "time_results = np.zeros(3)\n",
    "\n",
    "for j, algo in enumerate(algorithms):\n",
    "    if j == 2:\n",
    "        params = [transactions_df, 0.3]    \n",
    "    else:\n",
    "        params = [transactions, 0.3]\n",
    "    start = time()\n",
    "    frequent_itemsets, itemsets_by_length = algo(*params)\n",
    "    diff = time() - start\n",
    "    time_results[j] = diff * 1_000_000\n",
    "\n",
    "print(time_results)"
   ]
  },
  {
   "attachments": {},
   "cell_type": "markdown",
   "metadata": {},
   "source": [
    "# Run algorithms for the second transaction set"
   ]
  },
  {
   "cell_type": "code",
   "execution_count": 4,
   "metadata": {},
   "outputs": [
    {
     "name": "stdout",
     "output_type": "stream",
     "text": [
      "[4.88842618e+07 7.58171082e+02 2.48384476e+03]\n"
     ]
    }
   ],
   "source": [
    "algorithms = [apriori, apriori_upgraded, apriori_mlxtend]\n",
    "time_results2 = np.zeros(3)\n",
    "\n",
    "for j, algo in enumerate(algorithms):\n",
    "    if j == 2:\n",
    "        params = [transactions2_df, 0.3]    \n",
    "    else:\n",
    "        params = [transactions2, 0.3]\n",
    "    start = time()\n",
    "    frequent_itemsets, itemsets_by_length = algo(*params)\n",
    "    diff = time() - start\n",
    "    time_results2[j] = diff * 1_000_000\n",
    "\n",
    "print(time_results2)"
   ]
  },
  {
   "attachments": {},
   "cell_type": "markdown",
   "metadata": {},
   "source": [
    "# Run algorithms for the third transaction set"
   ]
  },
  {
   "cell_type": "code",
   "execution_count": 20,
   "metadata": {},
   "outputs": [],
   "source": [
    "time_results3 = np.zeros(3)"
   ]
  },
  {
   "attachments": {},
   "cell_type": "markdown",
   "metadata": {},
   "source": [
    "## Chat GPT apriori"
   ]
  },
  {
   "cell_type": "code",
   "execution_count": 16,
   "metadata": {},
   "outputs": [],
   "source": [
    "start = time()\n",
    "frequent_itemsets, itemsets_by_length = apriori(transactions3, 0.01)\n",
    "diff = time() - start\n",
    "time_results3[0] = diff * 1_000_000"
   ]
  },
  {
   "attachments": {},
   "cell_type": "markdown",
   "metadata": {},
   "source": [
    "## Apriori upgraded"
   ]
  },
  {
   "cell_type": "code",
   "execution_count": 21,
   "metadata": {},
   "outputs": [],
   "source": [
    "start = time()\n",
    "frequent_itemsets, itemsets_by_length = apriori_upgraded(transactions3, 0.01)\n",
    "diff = time() - start\n",
    "time_results3[1] = diff"
   ]
  },
  {
   "attachments": {},
   "cell_type": "markdown",
   "metadata": {},
   "source": [
    "## mlxtend apriori"
   ]
  },
  {
   "cell_type": "code",
   "execution_count": 22,
   "metadata": {},
   "outputs": [],
   "source": [
    "start = time()\n",
    "frequent_itemsets, itemsets_by_length = apriori_mlxtend(transactions3_df, 0.01)\n",
    "diff = time() - start\n",
    "time_results3[2] = diff"
   ]
  },
  {
   "cell_type": "code",
   "execution_count": 24,
   "metadata": {},
   "outputs": [
    {
     "name": "stdout",
     "output_type": "stream",
     "text": [
      "[0.0, 78.14720606803894, 5.013459920883179]\n"
     ]
    }
   ],
   "source": [
    "print(time_results3)"
   ]
  }
 ],
 "metadata": {
  "kernelspec": {
   "display_name": "DMenv",
   "language": "python",
   "name": "python3"
  },
  "language_info": {
   "codemirror_mode": {
    "name": "ipython",
    "version": 3
   },
   "file_extension": ".py",
   "mimetype": "text/x-python",
   "name": "python",
   "nbconvert_exporter": "python",
   "pygments_lexer": "ipython3",
   "version": "3.10.6"
  },
  "orig_nbformat": 4
 },
 "nbformat": 4,
 "nbformat_minor": 2
}
