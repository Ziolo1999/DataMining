{
 "cells": [
  {
   "cell_type": "code",
   "execution_count": 1,
   "metadata": {},
   "outputs": [],
   "source": [
    "from itertools import chain, combinations, filterfalse\n",
    "import pandas as pd\n",
    "import numpy as np\n",
    "from mlxtend.frequent_patterns import apriori as apriori2\n",
    "from mlxtend.frequent_patterns import association_rules as association\n",
    "from sklearn.model_selection import train_test_split\n",
    "from sklearn.preprocessing import MultiLabelBinarizer\n",
    "import matplotlib.pyplot as plt\n",
    "from sklearn.preprocessing import MinMaxScaler\n",
    "from tqdm import tqdm\n",
    "from time import time\n",
    "from functions import create_complex_test, get_sets, evaluate_recommendations\n",
    "import pickle"
   ]
  },
  {
   "attachments": {},
   "cell_type": "markdown",
   "metadata": {},
   "source": [
    "# Create input data for NDI algorithm"
   ]
  },
  {
   "cell_type": "code",
   "execution_count": 4,
   "metadata": {},
   "outputs": [],
   "source": [
    "# read retail.dat to a list of sets\n",
    "datContent = [i.strip().split() for i in open(\"../task1/retail.dat\").readlines()]\n",
    "\n",
    "# remove one-item baskets\n",
    "indices = []\n",
    "for i in range(len(datContent)):\n",
    "    if len(datContent[i]) == 1:\n",
    "        indices.append(i)\n",
    "\n",
    "datContent_reduced = [datContent[i] for i in range(len(datContent)) if i not in indices]\n",
    "\n",
    "\n",
    "# filename = 'ndi 2/df/reduced_retail.txt'\n",
    "\n",
    "# with open(filename, 'w') as file:\n",
    "#     for transaction in datContent_reduced:\n",
    "#         line = ' '.join(transaction)\n",
    "#         file.write(line + '\\n')\n"
   ]
  },
  {
   "attachments": {},
   "cell_type": "markdown",
   "metadata": {},
   "source": [
    "# Preprocess data"
   ]
  },
  {
   "cell_type": "code",
   "execution_count": null,
   "metadata": {},
   "outputs": [],
   "source": [
    "# read retail.dat to a list of sets\n",
    "datContent = [i.strip().split() for i in open(\"../task1/retail.dat\").readlines()]\n",
    "datContent =  [[int(i) for i in datContent[j]] for j in range(len(datContent))]\n",
    "\n",
    "# Convert to one hot encoded array\n",
    "mlb = MultiLabelBinarizer()\n",
    "one_hot_encoded = mlb.fit_transform(datContent)\n",
    "one_hot_encoded = one_hot_encoded.astype(bool)\n",
    "# Check for one-item baskets\n",
    "basket_sizes = np.apply_along_axis(np.sum, axis=1, arr=one_hot_encoded)\n",
    "# Get indices\n",
    "indx = np.where(basket_sizes==1)[0]\n",
    "# Remove one-item baskets\n",
    "one_hot_encoded = np.delete(arr=one_hot_encoded, obj=indx, axis=0)\n",
    "train, test = train_test_split(one_hot_encoded, test_size=0.1, random_state=23)\n",
    "\n",
    "test, test_output = create_complex_test(test)\n",
    "train_dataframe = pd.DataFrame(train)\n",
    "user_items = get_sets(test, np.arange(len(test[0])))"
   ]
  },
  {
   "attachments": {},
   "cell_type": "markdown",
   "metadata": {},
   "source": [
    "# Read working data"
   ]
  },
  {
   "cell_type": "code",
   "execution_count": 13,
   "metadata": {},
   "outputs": [],
   "source": [
    "with open(\"../task2/test_output.pickle\", \"rb\") as file:\n",
    "    test_output = pickle.load(file)\n",
    "\n",
    "with open(\"../task2/test_baskets.pickle\", \"rb\") as file:\n",
    "    user_items = pickle.load(file)\n",
    "\n",
    "with open(\"../task2/train_baskets.pickle\", \"rb\") as file:\n",
    "    train = pickle.load(file)\n",
    "train_dataframe = pd.DataFrame(train)"
   ]
  },
  {
   "attachments": {},
   "cell_type": "markdown",
   "metadata": {},
   "source": [
    "# Apriori Results with 85 transactions as min support"
   ]
  },
  {
   "cell_type": "code",
   "execution_count": 14,
   "metadata": {},
   "outputs": [
    {
     "name": "stderr",
     "output_type": "stream",
     "text": [
      "100%|██████████| 8116/8116 [00:00<00:00, 126242.25it/s]\n",
      "100%|██████████| 6603/6603 [00:01<00:00, 6429.45it/s]\n"
     ]
    }
   ],
   "source": [
    "results = []\n",
    "# read apriori results\n",
    "frq = [i.strip().split() for i in open(\"output1.txt\").readlines()]\n",
    "\n",
    "# transform output to df\n",
    "frq_dict = {\"support\":[],\n",
    "            \"itemsets\":[]}\n",
    "\n",
    "for i in tqdm(range(len(frq))):\n",
    "    itemsets_list = frq[i][0:len(frq[i])-2]\n",
    "    frq_dict[\"itemsets\"].append(frozenset([int(x) for x in itemsets_list]))\n",
    "    supp_str = frq[i][len(frq[i])-2]\n",
    "    supp_int = int(supp_str[1:len(supp_str)-1])\n",
    "    frq_dict[\"support\"].append(supp_int)\n",
    "\n",
    "frq_df = pd.DataFrame.from_dict(frq_dict)\n",
    "frq_df = frq_df.drop(index=[0])\n",
    "\n",
    "\n",
    "# Run association\n",
    "metric = \"confidence\"\n",
    "threshold = 0.5\n",
    "\n",
    "rules_new = association(frq_df, min_threshold = threshold)\n",
    "\n",
    "# Change format of the associatotion rules\n",
    "final_rules = []\n",
    "for i in tqdm(range(len(rules_new))):\n",
    "    antecedents, consequents, support, confidence, lift = rules_new.iloc[i][\"antecedents\"], rules_new.iloc[i][\"consequents\"], rules_new.iloc[i][\"support\"], rules_new.iloc[i][\"confidence\"], rules_new.iloc[i][\"lift\"]\n",
    "    final_rules.append((antecedents, consequents, support, confidence, lift))\n",
    "\n",
    "\n",
    "# Get evaluation\n",
    "top_n = 5\n",
    "precision, recall, f1_score = evaluate_recommendations(user_items, test_output, final_rules, metric, top_n=top_n)\n",
    "results.append([precision, recall, f1_score, len(frq)])"
   ]
  },
  {
   "attachments": {},
   "cell_type": "markdown",
   "metadata": {},
   "source": [
    "# Apriori Results with 125 transactions as min support"
   ]
  },
  {
   "cell_type": "code",
   "execution_count": 15,
   "metadata": {},
   "outputs": [
    {
     "name": "stderr",
     "output_type": "stream",
     "text": [
      "100%|██████████| 4613/4613 [00:00<00:00, 874144.95it/s]\n",
      "100%|██████████| 3606/3606 [00:00<00:00, 6438.63it/s]\n"
     ]
    }
   ],
   "source": [
    "# read apriori results\n",
    "frq = [i.strip().split() for i in open(\"output2.txt\").readlines()]\n",
    "\n",
    "# transform output to df\n",
    "frq_dict = {\"support\":[],\n",
    "            \"itemsets\":[]}\n",
    "\n",
    "for i in tqdm(range(len(frq))):\n",
    "    itemsets_list = frq[i][0:len(frq[i])-2]\n",
    "    frq_dict[\"itemsets\"].append(frozenset([int(x) for x in itemsets_list]))\n",
    "    supp_str = frq[i][len(frq[i])-2]\n",
    "    supp_int = int(supp_str[1:len(supp_str)-1])\n",
    "    frq_dict[\"support\"].append(supp_int)\n",
    "\n",
    "frq_df = pd.DataFrame.from_dict(frq_dict)\n",
    "frq_df = frq_df.drop(index=[0])\n",
    "\n",
    "\n",
    "# Run association\n",
    "metric = \"confidence\"\n",
    "threshold = 0.5\n",
    "rules_new = association(frq_df, min_threshold = threshold)\n",
    "\n",
    "# Change format of the associatotion rules\n",
    "final_rules = []\n",
    "for i in tqdm(range(len(rules_new))):\n",
    "    antecedents, consequents, support, confidence, lift = rules_new.iloc[i][\"antecedents\"], rules_new.iloc[i][\"consequents\"], rules_new.iloc[i][\"support\"], rules_new.iloc[i][\"confidence\"], rules_new.iloc[i][\"lift\"]\n",
    "    final_rules.append((antecedents, consequents, support, confidence, lift))\n",
    "\n",
    "\n",
    "# Get evaluation\n",
    "top_n = 5\n",
    "precision, recall, f1_score = evaluate_recommendations(user_items, test_output, final_rules, metric, top_n=top_n)\n",
    "results.append([precision, recall, f1_score, len(frq)])"
   ]
  },
  {
   "attachments": {},
   "cell_type": "markdown",
   "metadata": {},
   "source": [
    "# Apriori Results with 175 transactions as min support"
   ]
  },
  {
   "cell_type": "code",
   "execution_count": 16,
   "metadata": {},
   "outputs": [
    {
     "name": "stderr",
     "output_type": "stream",
     "text": [
      "100%|██████████| 2735/2735 [00:00<00:00, 841074.96it/s]\n",
      "100%|██████████| 2067/2067 [00:00<00:00, 6211.42it/s]\n"
     ]
    }
   ],
   "source": [
    "# read apriori results\n",
    "frq = [i.strip().split() for i in open(\"output3.txt\").readlines()]\n",
    "\n",
    "# transform output to df\n",
    "frq_dict = {\"support\":[],\n",
    "            \"itemsets\":[]}\n",
    "\n",
    "for i in tqdm(range(len(frq))):\n",
    "    itemsets_list = frq[i][0:len(frq[i])-2]\n",
    "    frq_dict[\"itemsets\"].append(frozenset([int(x) for x in itemsets_list]))\n",
    "    supp_str = frq[i][len(frq[i])-2]\n",
    "    supp_int = int(supp_str[1:len(supp_str)-1])\n",
    "    frq_dict[\"support\"].append(supp_int)\n",
    "\n",
    "frq_df = pd.DataFrame.from_dict(frq_dict)\n",
    "frq_df = frq_df.drop(index=[0])\n",
    "\n",
    "\n",
    "# Run association\n",
    "metric = \"confidence\"\n",
    "threshold = 0.5\n",
    "rules_new = association(frq_df, min_threshold = threshold)\n",
    "\n",
    "# Change format of the associatotion rules\n",
    "final_rules = []\n",
    "for i in tqdm(range(len(rules_new))):\n",
    "    antecedents, consequents, support, confidence, lift = rules_new.iloc[i][\"antecedents\"], rules_new.iloc[i][\"consequents\"], rules_new.iloc[i][\"support\"], rules_new.iloc[i][\"confidence\"], rules_new.iloc[i][\"lift\"]\n",
    "    final_rules.append((antecedents, consequents, support, confidence, lift))\n",
    "\n",
    "\n",
    "# Get evaluation\n",
    "top_n = 5\n",
    "precision, recall, f1_score = evaluate_recommendations(user_items, test_output, final_rules, metric, top_n=top_n)\n",
    "results.append([precision, recall, f1_score, len(frq)])"
   ]
  },
  {
   "attachments": {},
   "cell_type": "markdown",
   "metadata": {},
   "source": [
    "# Apriori Results with 250 transactions as min support"
   ]
  },
  {
   "cell_type": "code",
   "execution_count": 17,
   "metadata": {},
   "outputs": [
    {
     "name": "stderr",
     "output_type": "stream",
     "text": [
      "100%|██████████| 1559/1559 [00:00<00:00, 845805.19it/s]\n",
      "100%|██████████| 1180/1180 [00:00<00:00, 6430.94it/s]\n"
     ]
    }
   ],
   "source": [
    "# read apriori results\n",
    "frq = [i.strip().split() for i in open(\"output4.txt\").readlines()]\n",
    "\n",
    "# transform output to df\n",
    "frq_dict = {\"support\":[],\n",
    "            \"itemsets\":[]}\n",
    "\n",
    "for i in tqdm(range(len(frq))):\n",
    "    itemsets_list = frq[i][0:len(frq[i])-2]\n",
    "    frq_dict[\"itemsets\"].append(frozenset([int(x) for x in itemsets_list]))\n",
    "    supp_str = frq[i][len(frq[i])-2]\n",
    "    supp_int = int(supp_str[1:len(supp_str)-1])\n",
    "    frq_dict[\"support\"].append(supp_int)\n",
    "\n",
    "frq_df = pd.DataFrame.from_dict(frq_dict)\n",
    "frq_df = frq_df.drop(index=[0])\n",
    "\n",
    "# Run association\n",
    "metric = \"confidence\"\n",
    "threshold = 0.5\n",
    "rules_new = association(frq_df, min_threshold = threshold)\n",
    "\n",
    "# Change format of the associatotion rules\n",
    "final_rules = []\n",
    "for i in tqdm(range(len(rules_new))):\n",
    "    antecedents, consequents, support, confidence, lift = rules_new.iloc[i][\"antecedents\"], rules_new.iloc[i][\"consequents\"], rules_new.iloc[i][\"support\"], rules_new.iloc[i][\"confidence\"], rules_new.iloc[i][\"lift\"]\n",
    "    final_rules.append((antecedents, consequents, support, confidence, lift))\n",
    "\n",
    "# Get evaluation\n",
    "top_n = 5\n",
    "precision, recall, f1_score = evaluate_recommendations(user_items, test_output, final_rules, metric, top_n=top_n)\n",
    "results.append([precision, recall, f1_score, len(frq)])"
   ]
  },
  {
   "attachments": {},
   "cell_type": "markdown",
   "metadata": {},
   "source": [
    "# Apriori Results with 450 transactions as min support"
   ]
  },
  {
   "cell_type": "code",
   "execution_count": 18,
   "metadata": {},
   "outputs": [
    {
     "name": "stderr",
     "output_type": "stream",
     "text": [
      "100%|██████████| 624/624 [00:00<00:00, 901565.86it/s]\n",
      "100%|██████████| 468/468 [00:00<00:00, 6226.20it/s]\n"
     ]
    }
   ],
   "source": [
    "# read apriori results\n",
    "frq = [i.strip().split() for i in open(\"output5.txt\").readlines()]\n",
    "\n",
    "# transform output to df\n",
    "frq_dict = {\"support\":[],\n",
    "            \"itemsets\":[]}\n",
    "\n",
    "for i in tqdm(range(len(frq))):\n",
    "    itemsets_list = frq[i][0:len(frq[i])-2]\n",
    "    frq_dict[\"itemsets\"].append(frozenset([int(x) for x in itemsets_list]))\n",
    "    supp_str = frq[i][len(frq[i])-2]\n",
    "    supp_int = int(supp_str[1:len(supp_str)-1])\n",
    "    frq_dict[\"support\"].append(supp_int)\n",
    "\n",
    "frq_df = pd.DataFrame.from_dict(frq_dict)\n",
    "frq_df = frq_df.drop(index=[0])\n",
    "\n",
    "# Run association\n",
    "metric = \"confidence\"\n",
    "threshold = 0.5\n",
    "rules_new = association(frq_df, min_threshold = threshold)\n",
    "\n",
    "# Change format of the associatotion rules\n",
    "final_rules = []\n",
    "for i in tqdm(range(len(rules_new))):\n",
    "    antecedents, consequents, support, confidence, lift = rules_new.iloc[i][\"antecedents\"], rules_new.iloc[i][\"consequents\"], rules_new.iloc[i][\"support\"], rules_new.iloc[i][\"confidence\"], rules_new.iloc[i][\"lift\"]\n",
    "    final_rules.append((antecedents, consequents, support, confidence, lift))\n",
    "\n",
    "# Get evaluation\n",
    "top_n = 5\n",
    "precision, recall, f1_score = evaluate_recommendations(user_items, test_output, final_rules, metric, top_n=top_n)\n",
    "results.append([precision, recall, f1_score, len(frq)])"
   ]
  },
  {
   "attachments": {},
   "cell_type": "markdown",
   "metadata": {},
   "source": [
    "# Comparison Table"
   ]
  },
  {
   "cell_type": "code",
   "execution_count": 19,
   "metadata": {},
   "outputs": [
    {
     "data": {
      "text/html": [
       "<div>\n",
       "<style scoped>\n",
       "    .dataframe tbody tr th:only-of-type {\n",
       "        vertical-align: middle;\n",
       "    }\n",
       "\n",
       "    .dataframe tbody tr th {\n",
       "        vertical-align: top;\n",
       "    }\n",
       "\n",
       "    .dataframe thead th {\n",
       "        text-align: right;\n",
       "    }\n",
       "</style>\n",
       "<table border=\"1\" class=\"dataframe\">\n",
       "  <thead>\n",
       "    <tr style=\"text-align: right;\">\n",
       "      <th></th>\n",
       "      <th>Precision</th>\n",
       "      <th>Recall</th>\n",
       "      <th>F1-score</th>\n",
       "      <th>itemsets nr</th>\n",
       "    </tr>\n",
       "  </thead>\n",
       "  <tbody>\n",
       "    <tr>\n",
       "      <th>85</th>\n",
       "      <td>0.357219</td>\n",
       "      <td>0.113860</td>\n",
       "      <td>0.172680</td>\n",
       "      <td>8116</td>\n",
       "    </tr>\n",
       "    <tr>\n",
       "      <th>125</th>\n",
       "      <td>0.363138</td>\n",
       "      <td>0.110828</td>\n",
       "      <td>0.169826</td>\n",
       "      <td>4613</td>\n",
       "    </tr>\n",
       "    <tr>\n",
       "      <th>175</th>\n",
       "      <td>0.368249</td>\n",
       "      <td>0.105104</td>\n",
       "      <td>0.163533</td>\n",
       "      <td>2735</td>\n",
       "    </tr>\n",
       "    <tr>\n",
       "      <th>250</th>\n",
       "      <td>0.372938</td>\n",
       "      <td>0.100598</td>\n",
       "      <td>0.158454</td>\n",
       "      <td>1559</td>\n",
       "    </tr>\n",
       "    <tr>\n",
       "      <th>425</th>\n",
       "      <td>0.379918</td>\n",
       "      <td>0.091672</td>\n",
       "      <td>0.147703</td>\n",
       "      <td>624</td>\n",
       "    </tr>\n",
       "  </tbody>\n",
       "</table>\n",
       "</div>"
      ],
      "text/plain": [
       "     Precision    Recall  F1-score  itemsets nr\n",
       "85    0.357219  0.113860  0.172680         8116\n",
       "125   0.363138  0.110828  0.169826         4613\n",
       "175   0.368249  0.105104  0.163533         2735\n",
       "250   0.372938  0.100598  0.158454         1559\n",
       "425   0.379918  0.091672  0.147703          624"
      ]
     },
     "execution_count": 19,
     "metadata": {},
     "output_type": "execute_result"
    }
   ],
   "source": [
    "pd.DataFrame(results, columns=[\"Precision\", \"Recall\", \"F1-score\", \"itemsets nr\"], index=[85, 125, 175, 250, 425])"
   ]
  },
  {
   "attachments": {},
   "cell_type": "markdown",
   "metadata": {},
   "source": [
    "# Plot thresholds for min support 85"
   ]
  },
  {
   "cell_type": "code",
   "execution_count": 20,
   "metadata": {},
   "outputs": [
    {
     "name": "stderr",
     "output_type": "stream",
     "text": [
      "100%|██████████| 8116/8116 [00:00<00:00, 135718.73it/s]\n",
      "100%|██████████| 25578/25578 [00:03<00:00, 6445.41it/s]\n",
      "100%|██████████| 12480/12480 [00:01<00:00, 6445.41it/s]\n",
      "100%|██████████| 10264/10264 [00:01<00:00, 6440.12it/s]\n",
      "100%|██████████| 8394/8394 [00:01<00:00, 6396.13it/s]\n",
      "100%|██████████| 7496/7496 [00:01<00:00, 6438.54it/s]\n",
      "100%|██████████| 6603/6603 [00:01<00:00, 6437.83it/s]\n",
      "100%|██████████| 5011/5011 [00:00<00:00, 6422.78it/s]\n",
      "100%|██████████| 2443/2443 [00:00<00:00, 6419.67it/s]\n",
      "100%|██████████| 768/768 [00:00<00:00, 6344.17it/s]\n",
      "100%|██████████| 252/252 [00:00<00:00, 5891.96it/s]\n"
     ]
    },
    {
     "data": {
      "image/png": "[encoded data removed]",
      "text/plain": [
       "<Figure size 1000x200 with 3 Axes>"
      ]
     },
     "metadata": {},
     "output_type": "display_data"
    }
   ],
   "source": [
    "# read apriori results\n",
    "frq = [i.strip().split() for i in open(\"output1.txt\").readlines()]\n",
    "\n",
    "# transform output to df\n",
    "frq_dict = {\"support\":[],\n",
    "            \"itemsets\":[]}\n",
    "\n",
    "for i in tqdm(range(len(frq))):\n",
    "    itemsets_list = frq[i][0:len(frq[i])-2]\n",
    "    frq_dict[\"itemsets\"].append(frozenset([int(x) for x in itemsets_list]))\n",
    "    supp_str = frq[i][len(frq[i])-2]\n",
    "    supp_int = int(supp_str[1:len(supp_str)-1])\n",
    "    frq_dict[\"support\"].append(supp_int)\n",
    "\n",
    "frq_df = pd.DataFrame.from_dict(frq_dict)\n",
    "frq_df = frq_df.drop(index=[0])\n",
    "\n",
    "\n",
    "# Run association\n",
    "metric = \"confidence\"\n",
    "results_dict = {\"precision\":[], \"recall\":[], \"f1_score\":[]}\n",
    "threshold = np.arange(0, 1, 0.1)\n",
    "\n",
    "for t in threshold:\n",
    "    rules_new = association(frq_df, min_threshold = t)\n",
    "\n",
    "    # Change format of the associatotion rules\n",
    "    final_rules = []\n",
    "    for i in tqdm(range(len(rules_new))):\n",
    "        antecedents, consequents, support, confidence, lift = rules_new.iloc[i][\"antecedents\"], rules_new.iloc[i][\"consequents\"], rules_new.iloc[i][\"support\"], rules_new.iloc[i][\"confidence\"], rules_new.iloc[i][\"lift\"]\n",
    "        final_rules.append((antecedents, consequents, support, confidence, lift))\n",
    "\n",
    "    # Get evaluation\n",
    "    top_n = 5\n",
    "    precision, recall, f1_score = evaluate_recommendations(user_items, test_output, final_rules, metric, top_n=top_n)\n",
    "    results_dict[\"precision\"].append(precision)\n",
    "    results_dict[\"recall\"].append(recall)\n",
    "    results_dict[\"f1_score\"].append(f1_score)\n",
    "\n",
    "# Plotting threshold analysis\n",
    "fig, axs = plt.subplots(1, 3, figsize=(10, 2), layout='constrained')\n",
    "eval_metrics = [\"precision\", \"recall\", \"f1_score\"]\n",
    "\n",
    "for y, eval in enumerate(eval_metrics):\n",
    "    axs[y].set_title(metric + \": \" + eval)\n",
    "    axs[y].set_xlabel(\"threshold\")\n",
    "    axs[y].plot(threshold, results_dict[eval])\n",
    "\n",
    "plt.show()\n"
   ]
  }
 ],
 "metadata": {
  "kernelspec": {
   "display_name": "DMenv",
   "language": "python",
   "name": "python3"
  },
  "language_info": {
   "codemirror_mode": {
    "name": "ipython",
    "version": 3
   },
   "file_extension": ".py",
   "mimetype": "text/x-python",
   "name": "python",
   "nbconvert_exporter": "python",
   "pygments_lexer": "ipython3",
   "version": "3.10.6"
  },
  "orig_nbformat": 4
 },
 "nbformat": 4,
 "nbformat_minor": 2
}
