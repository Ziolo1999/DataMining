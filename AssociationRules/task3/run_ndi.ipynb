{
 "cells": [
  {
   "cell_type": "code",
   "execution_count": 2,
   "metadata": {},
   "outputs": [],
   "source": [
    "from itertools import chain, combinations, filterfalse\n",
    "import pandas as pd\n",
    "import numpy as np\n",
    "from mlxtend.frequent_patterns import apriori as apriori2\n",
    "from mlxtend.frequent_patterns import association_rules as association\n",
    "from sklearn.model_selection import train_test_split\n",
    "from sklearn.preprocessing import MultiLabelBinarizer\n",
    "import matplotlib.pyplot as plt\n",
    "from sklearn.preprocessing import MinMaxScaler\n",
    "from tqdm import tqdm\n",
    "from time import time\n",
    "from functions import create_complex_test, get_sets, evaluate_recommendations"
   ]
  },
  {
   "attachments": {},
   "cell_type": "markdown",
   "metadata": {},
   "source": [
    "# Preprocess data"
   ]
  },
  {
   "cell_type": "code",
   "execution_count": 3,
   "metadata": {},
   "outputs": [],
   "source": [
    "# read retail.dat to a list of sets\n",
    "datContent = [i.strip().split() for i in open(\"retail.dat\").readlines()]\n",
    "datContent =  [[int(i) for i in datContent[j]] for j in range(len(datContent))]\n",
    "\n",
    "# Convert to one hot encoded array\n",
    "mlb = MultiLabelBinarizer()\n",
    "one_hot_encoded = mlb.fit_transform(datContent)\n",
    "one_hot_encoded = one_hot_encoded.astype(bool)\n",
    "# Check for one-item baskets\n",
    "basket_sizes = np.apply_along_axis(np.sum, axis=1, arr=one_hot_encoded)\n",
    "# Get indices\n",
    "indx = np.where(basket_sizes==1)[0]\n",
    "# Remove one-item baskets\n",
    "one_hot_encoded = np.delete(arr=one_hot_encoded, obj=indx, axis=0)\n",
    "train, test = train_test_split(one_hot_encoded, test_size=0.1, random_state=23)\n",
    "\n",
    "test, test_output = create_complex_test(test)\n",
    "train_dataframe = pd.DataFrame(train)\n",
    "user_items = get_sets(test, np.arange(len(test[0])))"
   ]
  },
  {
   "attachments": {},
   "cell_type": "markdown",
   "metadata": {},
   "source": [
    "# Create input data for NDI algorithm"
   ]
  },
  {
   "cell_type": "code",
   "execution_count": 4,
   "metadata": {},
   "outputs": [],
   "source": [
    "# read retail.dat to a list of sets\n",
    "datContent = [i.strip().split() for i in open(\"retail.dat\").readlines()]\n",
    "\n",
    "# remove one-item baskets\n",
    "indices = []\n",
    "for i in range(len(datContent)):\n",
    "    if len(datContent[i]) == 1:\n",
    "        indices.append(i)\n",
    "\n",
    "datContent_reduced = [datContent[i] for i in range(len(datContent)) if i not in indices]\n",
    "\n",
    "\n",
    "# filename = 'ndi 2/df/reduced_retail.txt'\n",
    "\n",
    "# with open(filename, 'w') as file:\n",
    "#     for transaction in datContent_reduced:\n",
    "#         line = ' '.join(transaction)\n",
    "#         file.write(line + '\\n')\n"
   ]
  },
  {
   "attachments": {},
   "cell_type": "markdown",
   "metadata": {},
   "source": [
    "# Apriori Results with 85 transactions as min support"
   ]
  },
  {
   "cell_type": "code",
   "execution_count": 11,
   "metadata": {},
   "outputs": [
    {
     "name": "stderr",
     "output_type": "stream",
     "text": [
      "100%|██████████| 8116/8116 [00:00<00:00, 571665.60it/s]\n",
      "100%|██████████| 6603/6603 [00:01<00:00, 6465.48it/s]\n"
     ]
    }
   ],
   "source": [
    "results = []\n",
    "# read apriori results\n",
    "frq = [i.strip().split() for i in open(\"ndi 2/df/output1.txt\").readlines()]\n",
    "\n",
    "# transform output to df\n",
    "frq_dict = {\"support\":[],\n",
    "            \"itemsets\":[]}\n",
    "\n",
    "for i in tqdm(range(len(frq))):\n",
    "    itemsets_list = frq[i][0:len(frq[i])-2]\n",
    "    frq_dict[\"itemsets\"].append(frozenset([int(x) for x in itemsets_list]))\n",
    "    supp_str = frq[i][len(frq[i])-2]\n",
    "    supp_int = int(supp_str[1:len(supp_str)-1])\n",
    "    frq_dict[\"support\"].append(supp_int)\n",
    "\n",
    "frq_df = pd.DataFrame.from_dict(frq_dict)\n",
    "frq_df = frq_df.drop(index=[0])\n",
    "\n",
    "\n",
    "# Run association\n",
    "metric = \"confidence\"\n",
    "threshold = 0.5\n",
    "\n",
    "rules_new = association(frq_df, min_threshold = threshold)\n",
    "\n",
    "# Change format of the associatotion rules\n",
    "final_rules = []\n",
    "for i in tqdm(range(len(rules_new))):\n",
    "    antecedents, consequents, support, confidence, lift = rules_new.iloc[i][\"antecedents\"], rules_new.iloc[i][\"consequents\"], rules_new.iloc[i][\"support\"], rules_new.iloc[i][\"confidence\"], rules_new.iloc[i][\"lift\"]\n",
    "    final_rules.append((antecedents, consequents, support, confidence, lift))\n",
    "\n",
    "\n",
    "# Get evaluation\n",
    "top_n = 5\n",
    "precision, recall, f1_score = evaluate_recommendations(user_items, test_output, final_rules, metric, top_n=top_n)\n",
    "results.append([precision, recall, f1_score, len(frq)])"
   ]
  },
  {
   "attachments": {},
   "cell_type": "markdown",
   "metadata": {},
   "source": [
    "# Apriori Results with 125 transactions as min support"
   ]
  },
  {
   "cell_type": "code",
   "execution_count": 12,
   "metadata": {},
   "outputs": [
    {
     "name": "stderr",
     "output_type": "stream",
     "text": [
      "100%|██████████| 4613/4613 [00:00<00:00, 616306.44it/s]\n",
      "100%|██████████| 3606/3606 [00:00<00:00, 6473.15it/s]\n"
     ]
    }
   ],
   "source": [
    "# read apriori results\n",
    "frq = [i.strip().split() for i in open(\"ndi 2/df/output2.txt\").readlines()]\n",
    "\n",
    "# transform output to df\n",
    "frq_dict = {\"support\":[],\n",
    "            \"itemsets\":[]}\n",
    "\n",
    "for i in tqdm(range(len(frq))):\n",
    "    itemsets_list = frq[i][0:len(frq[i])-2]\n",
    "    frq_dict[\"itemsets\"].append(frozenset([int(x) for x in itemsets_list]))\n",
    "    supp_str = frq[i][len(frq[i])-2]\n",
    "    supp_int = int(supp_str[1:len(supp_str)-1])\n",
    "    frq_dict[\"support\"].append(supp_int)\n",
    "\n",
    "frq_df = pd.DataFrame.from_dict(frq_dict)\n",
    "frq_df = frq_df.drop(index=[0])\n",
    "\n",
    "\n",
    "# Run association\n",
    "metric = \"confidence\"\n",
    "threshold = 0.5\n",
    "rules_new = association(frq_df, min_threshold = threshold)\n",
    "\n",
    "# Change format of the associatotion rules\n",
    "final_rules = []\n",
    "for i in tqdm(range(len(rules_new))):\n",
    "    antecedents, consequents, support, confidence, lift = rules_new.iloc[i][\"antecedents\"], rules_new.iloc[i][\"consequents\"], rules_new.iloc[i][\"support\"], rules_new.iloc[i][\"confidence\"], rules_new.iloc[i][\"lift\"]\n",
    "    final_rules.append((antecedents, consequents, support, confidence, lift))\n",
    "\n",
    "\n",
    "# Get evaluation\n",
    "top_n = 5\n",
    "precision, recall, f1_score = evaluate_recommendations(user_items, test_output, final_rules, metric, top_n=top_n)\n",
    "results.append([precision, recall, f1_score, len(frq)])"
   ]
  },
  {
   "attachments": {},
   "cell_type": "markdown",
   "metadata": {},
   "source": [
    "# Apriori Results with 175 transactions as min support"
   ]
  },
  {
   "cell_type": "code",
   "execution_count": 13,
   "metadata": {},
   "outputs": [
    {
     "name": "stderr",
     "output_type": "stream",
     "text": [
      "100%|██████████| 2735/2735 [00:00<00:00, 543308.77it/s]\n",
      "100%|██████████| 2067/2067 [00:00<00:00, 6364.33it/s]\n"
     ]
    }
   ],
   "source": [
    "# read apriori results\n",
    "frq = [i.strip().split() for i in open(\"ndi 2/df/output3.txt\").readlines()]\n",
    "\n",
    "# transform output to df\n",
    "frq_dict = {\"support\":[],\n",
    "            \"itemsets\":[]}\n",
    "\n",
    "for i in tqdm(range(len(frq))):\n",
    "    itemsets_list = frq[i][0:len(frq[i])-2]\n",
    "    frq_dict[\"itemsets\"].append(frozenset([int(x) for x in itemsets_list]))\n",
    "    supp_str = frq[i][len(frq[i])-2]\n",
    "    supp_int = int(supp_str[1:len(supp_str)-1])\n",
    "    frq_dict[\"support\"].append(supp_int)\n",
    "\n",
    "frq_df = pd.DataFrame.from_dict(frq_dict)\n",
    "frq_df = frq_df.drop(index=[0])\n",
    "\n",
    "\n",
    "# Run association\n",
    "metric = \"confidence\"\n",
    "threshold = 0.5\n",
    "rules_new = association(frq_df, min_threshold = threshold)\n",
    "\n",
    "# Change format of the associatotion rules\n",
    "final_rules = []\n",
    "for i in tqdm(range(len(rules_new))):\n",
    "    antecedents, consequents, support, confidence, lift = rules_new.iloc[i][\"antecedents\"], rules_new.iloc[i][\"consequents\"], rules_new.iloc[i][\"support\"], rules_new.iloc[i][\"confidence\"], rules_new.iloc[i][\"lift\"]\n",
    "    final_rules.append((antecedents, consequents, support, confidence, lift))\n",
    "\n",
    "\n",
    "# Get evaluation\n",
    "top_n = 5\n",
    "precision, recall, f1_score = evaluate_recommendations(user_items, test_output, final_rules, metric, top_n=top_n)\n",
    "results.append([precision, recall, f1_score, len(frq)])"
   ]
  },
  {
   "attachments": {},
   "cell_type": "markdown",
   "metadata": {},
   "source": [
    "# Apriori Results with 250 transactions as min support"
   ]
  },
  {
   "cell_type": "code",
   "execution_count": 14,
   "metadata": {},
   "outputs": [
    {
     "name": "stderr",
     "output_type": "stream",
     "text": [
      "100%|██████████| 1559/1559 [00:00<00:00, 480132.16it/s]\n",
      "100%|██████████| 1180/1180 [00:00<00:00, 6335.09it/s]\n"
     ]
    }
   ],
   "source": [
    "# read apriori results\n",
    "frq = [i.strip().split() for i in open(\"ndi 2/df/output4.txt\").readlines()]\n",
    "\n",
    "# transform output to df\n",
    "frq_dict = {\"support\":[],\n",
    "            \"itemsets\":[]}\n",
    "\n",
    "for i in tqdm(range(len(frq))):\n",
    "    itemsets_list = frq[i][0:len(frq[i])-2]\n",
    "    frq_dict[\"itemsets\"].append(frozenset([int(x) for x in itemsets_list]))\n",
    "    supp_str = frq[i][len(frq[i])-2]\n",
    "    supp_int = int(supp_str[1:len(supp_str)-1])\n",
    "    frq_dict[\"support\"].append(supp_int)\n",
    "\n",
    "frq_df = pd.DataFrame.from_dict(frq_dict)\n",
    "frq_df = frq_df.drop(index=[0])\n",
    "\n",
    "# Run association\n",
    "metric = \"confidence\"\n",
    "threshold = 0.5\n",
    "rules_new = association(frq_df, min_threshold = threshold)\n",
    "\n",
    "# Change format of the associatotion rules\n",
    "final_rules = []\n",
    "for i in tqdm(range(len(rules_new))):\n",
    "    antecedents, consequents, support, confidence, lift = rules_new.iloc[i][\"antecedents\"], rules_new.iloc[i][\"consequents\"], rules_new.iloc[i][\"support\"], rules_new.iloc[i][\"confidence\"], rules_new.iloc[i][\"lift\"]\n",
    "    final_rules.append((antecedents, consequents, support, confidence, lift))\n",
    "\n",
    "# Get evaluation\n",
    "top_n = 5\n",
    "precision, recall, f1_score = evaluate_recommendations(user_items, test_output, final_rules, metric, top_n=top_n)\n",
    "results.append([precision, recall, f1_score, len(frq)])"
   ]
  },
  {
   "attachments": {},
   "cell_type": "markdown",
   "metadata": {},
   "source": [
    "# Apriori Results with 450 transactions as min support"
   ]
  },
  {
   "cell_type": "code",
   "execution_count": 15,
   "metadata": {},
   "outputs": [
    {
     "name": "stderr",
     "output_type": "stream",
     "text": [
      "100%|██████████| 624/624 [00:00<00:00, 708129.25it/s]\n",
      "100%|██████████| 468/468 [00:00<00:00, 6143.19it/s]\n"
     ]
    }
   ],
   "source": [
    "# read apriori results\n",
    "frq = [i.strip().split() for i in open(\"ndi 2/df/output5.txt\").readlines()]\n",
    "\n",
    "# transform output to df\n",
    "frq_dict = {\"support\":[],\n",
    "            \"itemsets\":[]}\n",
    "\n",
    "for i in tqdm(range(len(frq))):\n",
    "    itemsets_list = frq[i][0:len(frq[i])-2]\n",
    "    frq_dict[\"itemsets\"].append(frozenset([int(x) for x in itemsets_list]))\n",
    "    supp_str = frq[i][len(frq[i])-2]\n",
    "    supp_int = int(supp_str[1:len(supp_str)-1])\n",
    "    frq_dict[\"support\"].append(supp_int)\n",
    "\n",
    "frq_df = pd.DataFrame.from_dict(frq_dict)\n",
    "frq_df = frq_df.drop(index=[0])\n",
    "\n",
    "# Run association\n",
    "metric = \"confidence\"\n",
    "threshold = 0.5\n",
    "rules_new = association(frq_df, min_threshold = threshold)\n",
    "\n",
    "# Change format of the associatotion rules\n",
    "final_rules = []\n",
    "for i in tqdm(range(len(rules_new))):\n",
    "    antecedents, consequents, support, confidence, lift = rules_new.iloc[i][\"antecedents\"], rules_new.iloc[i][\"consequents\"], rules_new.iloc[i][\"support\"], rules_new.iloc[i][\"confidence\"], rules_new.iloc[i][\"lift\"]\n",
    "    final_rules.append((antecedents, consequents, support, confidence, lift))\n",
    "\n",
    "# Get evaluation\n",
    "top_n = 5\n",
    "precision, recall, f1_score = evaluate_recommendations(user_items, test_output, final_rules, metric, top_n=top_n)\n",
    "results.append([precision, recall, f1_score, len(frq)])"
   ]
  },
  {
   "cell_type": "code",
   "execution_count": 18,
   "metadata": {},
   "outputs": [
    {
     "data": {
      "text/html": [
       "<div>\n",
       "<style scoped>\n",
       "    .dataframe tbody tr th:only-of-type {\n",
       "        vertical-align: middle;\n",
       "    }\n",
       "\n",
       "    .dataframe tbody tr th {\n",
       "        vertical-align: top;\n",
       "    }\n",
       "\n",
       "    .dataframe thead th {\n",
       "        text-align: right;\n",
       "    }\n",
       "</style>\n",
       "<table border=\"1\" class=\"dataframe\">\n",
       "  <thead>\n",
       "    <tr style=\"text-align: right;\">\n",
       "      <th></th>\n",
       "      <th>Precision</th>\n",
       "      <th>Recall</th>\n",
       "      <th>F1-score</th>\n",
       "      <th>itemsets nr</th>\n",
       "    </tr>\n",
       "  </thead>\n",
       "  <tbody>\n",
       "    <tr>\n",
       "      <th>85</th>\n",
       "      <td>0.366126</td>\n",
       "      <td>0.117237</td>\n",
       "      <td>0.177604</td>\n",
       "      <td>8116</td>\n",
       "    </tr>\n",
       "    <tr>\n",
       "      <th>125</th>\n",
       "      <td>0.369715</td>\n",
       "      <td>0.113684</td>\n",
       "      <td>0.173896</td>\n",
       "      <td>4613</td>\n",
       "    </tr>\n",
       "    <tr>\n",
       "      <th>175</th>\n",
       "      <td>0.375737</td>\n",
       "      <td>0.107874</td>\n",
       "      <td>0.167623</td>\n",
       "      <td>2735</td>\n",
       "    </tr>\n",
       "    <tr>\n",
       "      <th>250</th>\n",
       "      <td>0.380957</td>\n",
       "      <td>0.102572</td>\n",
       "      <td>0.161626</td>\n",
       "      <td>1559</td>\n",
       "    </tr>\n",
       "    <tr>\n",
       "      <th>425</th>\n",
       "      <td>0.384390</td>\n",
       "      <td>0.092645</td>\n",
       "      <td>0.149305</td>\n",
       "      <td>624</td>\n",
       "    </tr>\n",
       "  </tbody>\n",
       "</table>\n",
       "</div>"
      ],
      "text/plain": [
       "     Precision    Recall  F1-score  itemsets nr\n",
       "85    0.366126  0.117237  0.177604         8116\n",
       "125   0.369715  0.113684  0.173896         4613\n",
       "175   0.375737  0.107874  0.167623         2735\n",
       "250   0.380957  0.102572  0.161626         1559\n",
       "425   0.384390  0.092645  0.149305          624"
      ]
     },
     "execution_count": 18,
     "metadata": {},
     "output_type": "execute_result"
    }
   ],
   "source": [
    "results = []\n",
    "# read apriori results\n",
    "frq = [i.strip().split() for i in open(\"ndi 2/df/output1.txt\").readlines()]\n",
    "\n",
    "# transform output to df\n",
    "frq_dict = {\"support\":[],\n",
    "            \"itemsets\":[]}\n",
    "\n",
    "for i in tqdm(range(len(frq))):\n",
    "    itemsets_list = frq[i][0:len(frq[i])-2]\n",
    "    frq_dict[\"itemsets\"].append(frozenset([int(x) for x in itemsets_list]))\n",
    "    supp_str = frq[i][len(frq[i])-2]\n",
    "    supp_int = int(supp_str[1:len(supp_str)-1])\n",
    "    frq_dict[\"support\"].append(supp_int)\n",
    "\n",
    "frq_df = pd.DataFrame.from_dict(frq_dict)\n",
    "frq_df = frq_df.drop(index=[0])\n",
    "\n",
    "\n",
    "# Run association\n",
    "metric = \"confidence\"\n",
    "threshold = 0.5\n",
    "\n",
    "rules_new = association(frq_df, min_threshold = threshold)\n",
    "\n",
    "# Change format of the associatotion rules\n",
    "final_rules = []\n",
    "for i in tqdm(range(len(rules_new))):\n",
    "    antecedents, consequents, support, confidence, lift = rules_new.iloc[i][\"antecedents\"], rules_new.iloc[i][\"consequents\"], rules_new.iloc[i][\"support\"], rules_new.iloc[i][\"confidence\"], rules_new.iloc[i][\"lift\"]\n",
    "    final_rules.append((antecedents, consequents, support, confidence, lift))pd.DataFrame(results, columns=[\"Precision\", \"Recall\", \"F1-score\", \"itemsets nr\"], index=[85, 125, 175, 250, 425])"
   ]
  },
  {
   "attachments": {},
   "cell_type": "markdown",
   "metadata": {},
   "source": [
    "# Plot thresholds for min support 85"
   ]
  },
  {
   "cell_type": "code",
   "execution_count": 16,
   "metadata": {},
   "outputs": [
    {
     "name": "stderr",
     "output_type": "stream",
     "text": [
      "100%|██████████| 8116/8116 [00:00<00:00, 590640.44it/s]\n",
      "100%|██████████| 25578/25578 [00:03<00:00, 6420.86it/s]\n",
      "100%|██████████| 12480/12480 [00:01<00:00, 6422.52it/s]\n",
      "100%|██████████| 10264/10264 [00:01<00:00, 6460.45it/s]\n",
      "100%|██████████| 8394/8394 [00:01<00:00, 6461.32it/s]\n",
      "100%|██████████| 7496/7496 [00:01<00:00, 6453.58it/s]\n",
      "100%|██████████| 6603/6603 [00:01<00:00, 6411.82it/s]\n",
      "100%|██████████| 5011/5011 [00:00<00:00, 6339.32it/s]\n",
      "100%|██████████| 2443/2443 [00:00<00:00, 6454.23it/s]\n",
      "100%|██████████| 768/768 [00:00<00:00, 6391.75it/s]\n",
      "100%|██████████| 252/252 [00:00<00:00, 6479.48it/s]\n"
     ]
    },
    {
     "data": {
      "image/png": "[encoded data removed]",
      "text/plain": [
       "<Figure size 1000x200 with 3 Axes>"
      ]
     },
     "metadata": {},
     "output_type": "display_data"
    }
   ],
   "source": [
    "# read apriori results\n",
    "frq = [i.strip().split() for i in open(\"ndi 2/df/output1.txt\").readlines()]\n",
    "\n",
    "# transform output to df\n",
    "frq_dict = {\"support\":[],\n",
    "            \"itemsets\":[]}\n",
    "\n",
    "for i in tqdm(range(len(frq))):\n",
    "    itemsets_list = frq[i][0:len(frq[i])-2]\n",
    "    frq_dict[\"itemsets\"].append(frozenset([int(x) for x in itemsets_list]))\n",
    "    supp_str = frq[i][len(frq[i])-2]\n",
    "    supp_int = int(supp_str[1:len(supp_str)-1])\n",
    "    frq_dict[\"support\"].append(supp_int)\n",
    "\n",
    "frq_df = pd.DataFrame.from_dict(frq_dict)\n",
    "frq_df = frq_df.drop(index=[0])\n",
    "\n",
    "\n",
    "# Run association\n",
    "metric = \"confidence\"\n",
    "results_dict = {\"precision\":[], \"recall\":[], \"f1_score\":[]}\n",
    "threshold = np.arange(0, 1, 0.1)\n",
    "\n",
    "for t in threshold:\n",
    "    rules_new = association(frq_df, min_threshold = t)\n",
    "\n",
    "    # Change format of the associatotion rules\n",
    "    final_rules = []\n",
    "    for i in tqdm(range(len(rules_new))):\n",
    "        antecedents, consequents, support, confidence, lift = rules_new.iloc[i][\"antecedents\"], rules_new.iloc[i][\"consequents\"], rules_new.iloc[i][\"support\"], rules_new.iloc[i][\"confidence\"], rules_new.iloc[i][\"lift\"]\n",
    "        final_rules.append((antecedents, consequents, support, confidence, lift))\n",
    "\n",
    "    # Get evaluation\n",
    "    top_n = 5\n",
    "    precision, recall, f1_score = evaluate_recommendations(user_items, test_output, final_rules, metric, top_n=top_n)\n",
    "    results_dict[\"precision\"].append(precision)\n",
    "    results_dict[\"recall\"].append(recall)\n",
    "    results_dict[\"f1_score\"].append(f1_score)\n",
    "\n",
    "# Plotting threshold analysis\n",
    "fig, axs = plt.subplots(1, 3, figsize=(10, 2), layout='constrained')\n",
    "eval_metrics = [\"precision\", \"recall\", \"f1_score\"]\n",
    "\n",
    "for y, eval in enumerate(eval_metrics):\n",
    "    axs[y].set_title(metric + \": \" + eval)\n",
    "    axs[y].set_xlabel(\"threshold\")\n",
    "    axs[y].plot(threshold, results_dict[eval])\n",
    "\n",
    "plt.show()\n"
   ]
  }
 ],
 "metadata": {
  "kernelspec": {
   "display_name": "DMenv",
   "language": "python",
   "name": "python3"
  },
  "language_info": {
   "codemirror_mode": {
    "name": "ipython",
    "version": 3
   },
   "file_extension": ".py",
   "mimetype": "text/x-python",
   "name": "python",
   "nbconvert_exporter": "python",
   "pygments_lexer": "ipython3",
   "version": "3.10.6"
  },
  "orig_nbformat": 4
 },
 "nbformat": 4,
 "nbformat_minor": 2
}
